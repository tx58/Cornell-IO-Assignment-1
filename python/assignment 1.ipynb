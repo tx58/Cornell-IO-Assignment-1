{
 "cells": [
  {
   "cell_type": "code",
   "execution_count": 1,
   "metadata": {},
   "outputs": [
    {
     "data": {
      "text/plain": [
       "'0.12.0'"
      ]
     },
     "execution_count": 1,
     "metadata": {},
     "output_type": "execute_result"
    }
   ],
   "source": [
    "import pyblp\n",
    "import numpy as np\n",
    "import pandas as pd\n",
    "import matplotlib.pyplot as plt\n",
    "import scipy as sp\n",
    "import copy \n",
    "import statsmodels.api as sm\n",
    "\n",
    "pyblp.options.digits = 2\n",
    "pyblp.options.verbose = False\n",
    "pyblp.__version__"
   ]
  },
  {
   "cell_type": "code",
   "execution_count": 2,
   "metadata": {},
   "outputs": [],
   "source": [
    "dataset= pd.read_csv('Yr18_PSet_BLP_data_no_header.txt', delimiter= '\\t',\n",
    "                     header=None, names= ['prices', 'quantity', 'weight', 'power', 'ac', 'firm_ids'])"
   ]
  },
  {
   "cell_type": "code",
   "execution_count": 3,
   "metadata": {},
   "outputs": [],
   "source": [
    "dataset['market_ids']=1"
   ]
  },
  {
   "cell_type": "code",
   "execution_count": 4,
   "metadata": {},
   "outputs": [
    {
     "data": {
      "text/html": [
       "<div>\n",
       "<style scoped>\n",
       "    .dataframe tbody tr th:only-of-type {\n",
       "        vertical-align: middle;\n",
       "    }\n",
       "\n",
       "    .dataframe tbody tr th {\n",
       "        vertical-align: top;\n",
       "    }\n",
       "\n",
       "    .dataframe thead th {\n",
       "        text-align: right;\n",
       "    }\n",
       "</style>\n",
       "<table border=\"1\" class=\"dataframe\">\n",
       "  <thead>\n",
       "    <tr style=\"text-align: right;\">\n",
       "      <th></th>\n",
       "      <th>prices</th>\n",
       "      <th>quantity</th>\n",
       "      <th>weight</th>\n",
       "      <th>power</th>\n",
       "      <th>ac</th>\n",
       "    </tr>\n",
       "  </thead>\n",
       "  <tbody>\n",
       "    <tr>\n",
       "      <th>count</th>\n",
       "      <td>131.000000</td>\n",
       "      <td>131.000000</td>\n",
       "      <td>131.000000</td>\n",
       "      <td>131.000000</td>\n",
       "      <td>131.000000</td>\n",
       "    </tr>\n",
       "    <tr>\n",
       "      <th>mean</th>\n",
       "      <td>18349.091603</td>\n",
       "      <td>66377.312977</td>\n",
       "      <td>2923.465649</td>\n",
       "      <td>133.587786</td>\n",
       "      <td>0.458015</td>\n",
       "    </tr>\n",
       "    <tr>\n",
       "      <th>std</th>\n",
       "      <td>12342.785926</td>\n",
       "      <td>74854.734184</td>\n",
       "      <td>564.955578</td>\n",
       "      <td>45.874556</td>\n",
       "      <td>0.500147</td>\n",
       "    </tr>\n",
       "    <tr>\n",
       "      <th>min</th>\n",
       "      <td>4435.000000</td>\n",
       "      <td>1037.000000</td>\n",
       "      <td>1620.000000</td>\n",
       "      <td>55.000000</td>\n",
       "      <td>0.000000</td>\n",
       "    </tr>\n",
       "    <tr>\n",
       "      <th>25%</th>\n",
       "      <td>10412.500000</td>\n",
       "      <td>14488.500000</td>\n",
       "      <td>2526.500000</td>\n",
       "      <td>100.000000</td>\n",
       "      <td>0.000000</td>\n",
       "    </tr>\n",
       "    <tr>\n",
       "      <th>50%</th>\n",
       "      <td>13800.000000</td>\n",
       "      <td>39602.000000</td>\n",
       "      <td>2839.000000</td>\n",
       "      <td>130.000000</td>\n",
       "      <td>0.000000</td>\n",
       "    </tr>\n",
       "    <tr>\n",
       "      <th>75%</th>\n",
       "      <td>23400.000000</td>\n",
       "      <td>94776.000000</td>\n",
       "      <td>3329.000000</td>\n",
       "      <td>160.000000</td>\n",
       "      <td>1.000000</td>\n",
       "    </tr>\n",
       "    <tr>\n",
       "      <th>max</th>\n",
       "      <td>73800.000000</td>\n",
       "      <td>417179.000000</td>\n",
       "      <td>4283.000000</td>\n",
       "      <td>278.000000</td>\n",
       "      <td>1.000000</td>\n",
       "    </tr>\n",
       "  </tbody>\n",
       "</table>\n",
       "</div>"
      ],
      "text/plain": [
       "             prices       quantity       weight       power          ac\n",
       "count    131.000000     131.000000   131.000000  131.000000  131.000000\n",
       "mean   18349.091603   66377.312977  2923.465649  133.587786    0.458015\n",
       "std    12342.785926   74854.734184   564.955578   45.874556    0.500147\n",
       "min     4435.000000    1037.000000  1620.000000   55.000000    0.000000\n",
       "25%    10412.500000   14488.500000  2526.500000  100.000000    0.000000\n",
       "50%    13800.000000   39602.000000  2839.000000  130.000000    0.000000\n",
       "75%    23400.000000   94776.000000  3329.000000  160.000000    1.000000\n",
       "max    73800.000000  417179.000000  4283.000000  278.000000    1.000000"
      ]
     },
     "execution_count": 4,
     "metadata": {},
     "output_type": "execute_result"
    }
   ],
   "source": [
    "dataset[['prices', 'quantity', 'weight', 'power', 'ac']].describe()"
   ]
  },
  {
   "cell_type": "code",
   "execution_count": 5,
   "metadata": {},
   "outputs": [],
   "source": [
    "#Data Pre-processing: change scale of variables to [0,1]:\n",
    "dataset['prices']= dataset['prices']/10000\n",
    "dataset['weight']= dataset['weight']/1000\n",
    "dataset['power']= dataset['power']/100"
   ]
  },
  {
   "cell_type": "code",
   "execution_count": 6,
   "metadata": {},
   "outputs": [],
   "source": [
    "M= 100000000 # Market size: 100 million\n",
    "dataset['shares']= dataset['quantity']/M\n",
    "dataset_gh= copy.deepcopy(dataset)"
   ]
  },
  {
   "cell_type": "markdown",
   "metadata": {},
   "source": [
    "### Question 5: Logit and logit with supply side"
   ]
  },
  {
   "cell_type": "code",
   "execution_count": 7,
   "metadata": {},
   "outputs": [],
   "source": [
    "#  BLP type instruments\n",
    "demand_instruments = pyblp.build_blp_instruments(pyblp.Formulation('1 + weight + power + ac'), dataset)\n",
    "for i in range(demand_instruments[0].size):\n",
    "    dataset[f'demand_instruments{i}']= demand_instruments[:,i]\n",
    "#     dataset[f'supply_instruments{i}']= demand_instruments[:,i]\n",
    "\n",
    "# data2= dataset.copy()\n",
    "# data2['market_ids']=2\n",
    "# dataset= dataset.append(data2, ignore_index=True)\n",
    "# dataset['market_ids']"
   ]
  },
  {
   "cell_type": "code",
   "execution_count": 53,
   "metadata": {},
   "outputs": [
    {
     "data": {
      "text/html": [
       "<div>\n",
       "<style scoped>\n",
       "    .dataframe tbody tr th:only-of-type {\n",
       "        vertical-align: middle;\n",
       "    }\n",
       "\n",
       "    .dataframe tbody tr th {\n",
       "        vertical-align: top;\n",
       "    }\n",
       "\n",
       "    .dataframe thead th {\n",
       "        text-align: right;\n",
       "    }\n",
       "</style>\n",
       "<table border=\"1\" class=\"dataframe\">\n",
       "  <thead>\n",
       "    <tr style=\"text-align: right;\">\n",
       "      <th></th>\n",
       "      <th>prices</th>\n",
       "      <th>quantity</th>\n",
       "      <th>weight</th>\n",
       "      <th>power</th>\n",
       "      <th>ac</th>\n",
       "      <th>firm_ids</th>\n",
       "      <th>market_ids</th>\n",
       "      <th>shares</th>\n",
       "      <th>demand_instruments0</th>\n",
       "      <th>demand_instruments1</th>\n",
       "      <th>demand_instruments2</th>\n",
       "      <th>demand_instruments3</th>\n",
       "      <th>demand_instruments4</th>\n",
       "      <th>demand_instruments5</th>\n",
       "      <th>demand_instruments6</th>\n",
       "      <th>demand_instruments7</th>\n",
       "    </tr>\n",
       "  </thead>\n",
       "  <tbody>\n",
       "    <tr>\n",
       "      <th>0</th>\n",
       "      <td>0.6488</td>\n",
       "      <td>90808</td>\n",
       "      <td>2.020</td>\n",
       "      <td>0.78</td>\n",
       "      <td>0</td>\n",
       "      <td>1</td>\n",
       "      <td>1</td>\n",
       "      <td>0.000908</td>\n",
       "      <td>4.0</td>\n",
       "      <td>4.0</td>\n",
       "      <td>4.0</td>\n",
       "      <td>59.0</td>\n",
       "      <td>79.0</td>\n",
       "      <td>66.0</td>\n",
       "      <td>8.0</td>\n",
       "      <td>122.0</td>\n",
       "    </tr>\n",
       "    <tr>\n",
       "      <th>1</th>\n",
       "      <td>0.8748</td>\n",
       "      <td>228211</td>\n",
       "      <td>2.390</td>\n",
       "      <td>1.02</td>\n",
       "      <td>0</td>\n",
       "      <td>1</td>\n",
       "      <td>1</td>\n",
       "      <td>0.002282</td>\n",
       "      <td>5.0</td>\n",
       "      <td>5.0</td>\n",
       "      <td>4.0</td>\n",
       "      <td>82.0</td>\n",
       "      <td>102.0</td>\n",
       "      <td>66.0</td>\n",
       "      <td>8.0</td>\n",
       "      <td>122.0</td>\n",
       "    </tr>\n",
       "    <tr>\n",
       "      <th>2</th>\n",
       "      <td>1.1588</td>\n",
       "      <td>284595</td>\n",
       "      <td>2.690</td>\n",
       "      <td>1.15</td>\n",
       "      <td>0</td>\n",
       "      <td>1</td>\n",
       "      <td>1</td>\n",
       "      <td>0.002846</td>\n",
       "      <td>7.0</td>\n",
       "      <td>5.0</td>\n",
       "      <td>4.0</td>\n",
       "      <td>99.0</td>\n",
       "      <td>105.0</td>\n",
       "      <td>66.0</td>\n",
       "      <td>8.0</td>\n",
       "      <td>122.0</td>\n",
       "    </tr>\n",
       "    <tr>\n",
       "      <th>3</th>\n",
       "      <td>1.2268</td>\n",
       "      <td>78521</td>\n",
       "      <td>2.500</td>\n",
       "      <td>1.03</td>\n",
       "      <td>0</td>\n",
       "      <td>1</td>\n",
       "      <td>1</td>\n",
       "      <td>0.000785</td>\n",
       "      <td>5.0</td>\n",
       "      <td>5.0</td>\n",
       "      <td>4.0</td>\n",
       "      <td>88.0</td>\n",
       "      <td>102.0</td>\n",
       "      <td>66.0</td>\n",
       "      <td>8.0</td>\n",
       "      <td>122.0</td>\n",
       "    </tr>\n",
       "    <tr>\n",
       "      <th>4</th>\n",
       "      <td>1.4898</td>\n",
       "      <td>14257</td>\n",
       "      <td>2.599</td>\n",
       "      <td>1.30</td>\n",
       "      <td>0</td>\n",
       "      <td>1</td>\n",
       "      <td>1</td>\n",
       "      <td>0.000143</td>\n",
       "      <td>5.0</td>\n",
       "      <td>6.0</td>\n",
       "      <td>4.0</td>\n",
       "      <td>93.0</td>\n",
       "      <td>107.0</td>\n",
       "      <td>66.0</td>\n",
       "      <td>8.0</td>\n",
       "      <td>122.0</td>\n",
       "    </tr>\n",
       "  </tbody>\n",
       "</table>\n",
       "</div>"
      ],
      "text/plain": [
       "   prices  quantity  weight  power  ac  firm_ids  market_ids    shares  \\\n",
       "0  0.6488     90808   2.020   0.78   0         1           1  0.000908   \n",
       "1  0.8748    228211   2.390   1.02   0         1           1  0.002282   \n",
       "2  1.1588    284595   2.690   1.15   0         1           1  0.002846   \n",
       "3  1.2268     78521   2.500   1.03   0         1           1  0.000785   \n",
       "4  1.4898     14257   2.599   1.30   0         1           1  0.000143   \n",
       "\n",
       "   demand_instruments0  demand_instruments1  demand_instruments2  \\\n",
       "0                  4.0                  4.0                  4.0   \n",
       "1                  5.0                  5.0                  4.0   \n",
       "2                  7.0                  5.0                  4.0   \n",
       "3                  5.0                  5.0                  4.0   \n",
       "4                  5.0                  6.0                  4.0   \n",
       "\n",
       "   demand_instruments3  demand_instruments4  demand_instruments5  \\\n",
       "0                 59.0                 79.0                 66.0   \n",
       "1                 82.0                102.0                 66.0   \n",
       "2                 99.0                105.0                 66.0   \n",
       "3                 88.0                102.0                 66.0   \n",
       "4                 93.0                107.0                 66.0   \n",
       "\n",
       "   demand_instruments6  demand_instruments7  \n",
       "0                  8.0                122.0  \n",
       "1                  8.0                122.0  \n",
       "2                  8.0                122.0  \n",
       "3                  8.0                122.0  \n",
       "4                  8.0                122.0  "
      ]
     },
     "execution_count": 53,
     "metadata": {},
     "output_type": "execute_result"
    }
   ],
   "source": [
    "# GH type instruments\n",
    "cols = [c for c in dataset_gh.columns if c.lower()[:4] != 'dema']\n",
    "dataset_gh= dataset_gh[cols]\n",
    "gh_instruments = pyblp.build_differentiation_instruments(pyblp.Formulation('0+ weight + power+ ac'), dataset)\n",
    "for i in range(gh_instruments[0].size):\n",
    "    dataset_gh[f'demand_instruments{i}']= gh_instruments[:,i]\n",
    "blp_instruments = pyblp.build_blp_instruments(pyblp.Formulation(' 1'), dataset)\n",
    "\n",
    "dataset_gh[f'demand_instruments{i+1}']= blp_instruments[:,0]\n",
    "dataset_gh[f'demand_instruments{i+2}']= blp_instruments[:,1]\n",
    "\n",
    "dataset_gh.head()"
   ]
  },
  {
   "cell_type": "code",
   "execution_count": 9,
   "metadata": {},
   "outputs": [
    {
     "data": {
      "text/plain": [
       "1 + prices + weight + power + ac"
      ]
     },
     "execution_count": 9,
     "metadata": {},
     "output_type": "execute_result"
    }
   ],
   "source": [
    "logit_formulation = pyblp.Formulation('prices+ weight + power + ac ' )\n",
    "logit_formulation"
   ]
  },
  {
   "cell_type": "code",
   "execution_count": 10,
   "metadata": {},
   "outputs": [
    {
     "data": {
      "text/plain": [
       "Dimensions:\n",
       "=========================\n",
       " T    N    F    K1    MD \n",
       "---  ---  ---  ----  ----\n",
       " 1   131  20    5     12 \n",
       "=========================\n",
       "\n",
       "Formulations:\n",
       "===========================================================\n",
       "     Column Indices:         0     1       2       3     4 \n",
       "--------------------------  ---  ------  ------  -----  ---\n",
       "X1: Linear Characteristics   1   prices  weight  power  ac \n",
       "==========================================================="
      ]
     },
     "execution_count": 10,
     "metadata": {},
     "output_type": "execute_result"
    }
   ],
   "source": [
    "pyblp.options.collinear_atol= 0\n",
    "pyblp.options.collinear_rtol= 0 # only one market, need to disable this\n",
    "problem = pyblp.Problem(logit_formulation, dataset)\n",
    "problem"
   ]
  },
  {
   "cell_type": "code",
   "execution_count": 11,
   "metadata": {},
   "outputs": [
    {
     "data": {
      "text/plain": [
       "Problem Results Summary:\n",
       "=============================================================\n",
       "GMM   Objective  Clipped  Weighting Matrix  Covariance Matrix\n",
       "Step    Value    Shares   Condition Number  Condition Number \n",
       "----  ---------  -------  ----------------  -----------------\n",
       " 2    +5.8E-02      0         +1.9E+21          +1.4E+03     \n",
       "=============================================================\n",
       "\n",
       "Cumulative Statistics:\n",
       "========================\n",
       "Computation   Objective \n",
       "   Time      Evaluations\n",
       "-----------  -----------\n",
       " 00:00:00         2     \n",
       "========================\n",
       "\n",
       "Beta Estimates (Robust SEs in Parentheses):\n",
       "==========================================================\n",
       "    1         prices      weight      power         ac    \n",
       "----------  ----------  ----------  ----------  ----------\n",
       " -9.5E+00    -1.2E+00    +1.0E+00    +7.0E-01    -1.8E-01 \n",
       "(+7.7E-01)  (+4.2E-01)  (+3.4E-01)  (+8.4E-01)  (+3.9E-01)\n",
       "=========================================================="
      ]
     },
     "execution_count": 11,
     "metadata": {},
     "output_type": "execute_result"
    }
   ],
   "source": [
    "logit_demandonly= problem.solve()\n",
    "logit_demandonly"
   ]
  },
  {
   "cell_type": "code",
   "execution_count": 12,
   "metadata": {},
   "outputs": [
    {
     "data": {
      "text/plain": [
       "Dimensions:\n",
       "=====================================\n",
       " T    N    F    K1    K3    MD    MS \n",
       "---  ---  ---  ----  ----  ----  ----\n",
       " 1   131  20    5     4     12    4  \n",
       "=====================================\n",
       "\n",
       "Formulations:\n",
       "================================================================\n",
       "        Column Indices:           0     1       2       3     4 \n",
       "-------------------------------  ---  ------  ------  -----  ---\n",
       "  X1: Linear Characteristics      1   prices  weight  power  ac \n",
       "X3: Linear Cost Characteristics   1   weight  power    ac       \n",
       "================================================================"
      ]
     },
     "execution_count": 12,
     "metadata": {},
     "output_type": "execute_result"
    }
   ],
   "source": [
    "logit_supply_formulation = (pyblp.Formulation('prices+ weight + power + ac ' ),\n",
    "                            None,\n",
    "                            pyblp.Formulation('weight + power + ac ' ))\n",
    "logit_supply_formulation\n",
    "problem = pyblp.Problem(logit_supply_formulation, dataset)\n",
    "problem\n"
   ]
  },
  {
   "cell_type": "code",
   "execution_count": 13,
   "metadata": {},
   "outputs": [
    {
     "data": {
      "text/plain": [
       "Problem Results Summary:\n",
       "=================================================================================\n",
       "GMM   Objective  Gradient            Clipped  Weighting Matrix  Covariance Matrix\n",
       "Step    Value      Norm    Hessian   Shares   Condition Number  Condition Number \n",
       "----  ---------  --------  --------  -------  ----------------  -----------------\n",
       " 2    +3.2E-01   +4.8E-09  +2.0E-01     0         +2.1E+19          +1.2E+04     \n",
       "=================================================================================\n",
       "\n",
       "Cumulative Statistics:\n",
       "=================================================\n",
       "Computation  Optimizer  Optimization   Objective \n",
       "   Time      Converged   Iterations   Evaluations\n",
       "-----------  ---------  ------------  -----------\n",
       " 00:00:01       Yes          2             8     \n",
       "=================================================\n",
       "\n",
       "Beta Estimates (Robust SEs in Parentheses):\n",
       "==========================================================\n",
       "    1         prices      weight      power         ac    \n",
       "----------  ----------  ----------  ----------  ----------\n",
       " -1.0E+01    -1.1E+00    +1.4E+00    +2.3E-01    -2.6E-01 \n",
       "(+8.0E-01)  (+3.7E-01)  (+3.2E-01)  (+7.1E-01)  (+3.5E-01)\n",
       "==========================================================\n",
       "\n",
       "Gamma Estimates (Robust SEs in Parentheses):\n",
       "==============================================\n",
       "    1         weight      power         ac    \n",
       "----------  ----------  ----------  ----------\n",
       " -1.9E+00    +7.1E-02    +1.8E+00    +4.4E-01 \n",
       "(+6.9E-01)  (+2.3E-01)  (+3.3E-01)  (+2.0E-01)\n",
       "=============================================="
      ]
     },
     "execution_count": 13,
     "metadata": {},
     "output_type": "execute_result"
    }
   ],
   "source": [
    "logit_supply= problem.solve(\n",
    "    beta = [None, -1, None, None, None] )\n",
    "logit_supply"
   ]
  },
  {
   "cell_type": "code",
   "execution_count": 14,
   "metadata": {},
   "outputs": [
    {
     "data": {
      "image/png": "[encoded data removed]",
      "text/plain": [
       "<Figure size 288x288 with 2 Axes>"
      ]
     },
     "metadata": {
      "needs_background": "light"
     },
     "output_type": "display_data"
    }
   ],
   "source": [
    "plt.colorbar(plt.matshow(logit_supply.compute_elasticities()));"
   ]
  },
  {
   "cell_type": "markdown",
   "metadata": {},
   "source": [
    "### Question 6: Other alternatives:\n",
    "\n",
    "* Nested logit model: it will help a little, but largely depends on the\n",
    "selection of nests.\n",
    "\n",
    "* pure characteristics model: it will help because it tries to meliorate\n",
    "the effect of iid error term, but it is hard to estimate in this setting.\n",
    "\n",
    "* multinomial probit: it also suffers from iid error problem (unless we\n",
    "allow for correlations which is also hard to implement in this setting.)\n"
   ]
  },
  {
   "cell_type": "markdown",
   "metadata": {},
   "source": [
    "### Question 7: BLP with observed heterogeneity\n",
    "\n",
    "BLP: $u_{ij}=x_{j}\\beta -\\alpha _{i}p_{j}+\\xi _{j}+\\varepsilon _{ij}$\n",
    "where $\\alpha _{i}=\\frac{1}{y_{i}}.$ Then $\\delta _{j}=x_{j}\\beta +\\xi _{j}.$\n",
    "\n",
    "The estimation will involve a Berry's inversion in the outer loop.What\n",
    "we do here is to (given the distribution parameters of lognormal) calculate:\n",
    "\n",
    "$$\n",
    "s_{j}=\\int \\frac{e^{\\delta _{j}-\\frac{p_{j}}{y_{i}}}f\\left( y_{i}\\right)\n",
    "dy_{i}}{1+\\sum_{l}e^{\\delta _{l}-\\frac{p_{l}}{y_{i}}}f\\left( y_{i}\\right)\n",
    "dy_{i}}\n",
    "$$\n",
    "\n",
    "repeat using contraction mapping: (until convergence, we set $\\left\\vert \n",
    "\\hat{\\delta}_{j+1}-\\hat{\\delta}_{j}\\right\\vert \\leq 10^{-6}$, dropping 1\n",
    "digit with 100 loops, start with logit value).%\n",
    "* step 1:\n",
    "$$\n",
    "\\hat{s}_{j}=\\int_{y_{i}}\\frac{\\exp (\\hat{\\delta}_{j}-%\n",
    "\\frac{p_{j}}{y_{i}})dF\\left( y_{i}\\right) }{1+\\sum_{k}\\exp (\\hat{\\delta}_{j}-%\n",
    "\\frac{p_{k}}{y_{i}})dF\\left( y_{i}\\right) }=\\frac{1}{N}\\sum_{r=1}^{N}\\frac{%\n",
    "\\exp (\\hat{\\delta}_{j}-\\frac{p_{j}}{y_{r}})}{1+\\sum_{k}\\exp (\\hat{\\delta}%\n",
    "_{k}-\\frac{p_{k}}{y_{r}})}\n",
    "$$\n",
    "* step 2:\n",
    "$$\n",
    "\\exp \\left( \\hat{\\delta}_{j+1}\\right) =\\exp \\left( \n",
    "\\hat{\\delta}_{j}\\right) \\frac{s_{obs}}{\\hat{s}_{j}}\n",
    "$$\n",
    "\n",
    "where $\\left\\{ y_{r}\\right\\} _{r=1}^{N}$ is directly drawn from the\n",
    "lognormal distribution given the distribution parameter $(\\mu ,\\sigma ).$\n",
    "\n",
    "And then use GMM model to estimate $\\beta $ and $\\mu ,\\sigma .$\n",
    "\n",
    "Given $\\alpha _{i}=\\alpha _{1}+\\frac{\\alpha _{2}}{y_{i}}.$ $\\delta\n",
    "_{j}=x_{j}\\beta -\\alpha _{1}p_{j}+\\xi _{j}.$Now the inversion becomes:%\n",
    "$$\n",
    "\\ln (s_{j})-\\ln \\left( s_{0}\\right) =\\int_{y_{i}}(\\delta _{j}-(\\alpha _{1}+%\n",
    "\\frac{\\alpha _{2}}{y_{i}}p_{j})dF\\left( y_{i}\\right) \n",
    "$$\n",
    "\n",
    "Now we have another parameter $\\alpha _{1}$ and $\\alpha _{2}$ here to\n",
    "estimate as a nonlinear parameter. It is hard to estimate without\n",
    "instruments because the distribution of lognormal $\\mu $ and $\\alpha _{2}$\n",
    "are compounding effects. It is not possible to seperately identify all of\n",
    "them three. Given our limited sample data, it is not likely that $\\alpha _{1}\n",
    "$ can be identified too."
   ]
  },
  {
   "cell_type": "code",
   "execution_count": 57,
   "metadata": {},
   "outputs": [
    {
     "data": {
      "text/html": [
       "<div>\n",
       "<style scoped>\n",
       "    .dataframe tbody tr th:only-of-type {\n",
       "        vertical-align: middle;\n",
       "    }\n",
       "\n",
       "    .dataframe tbody tr th {\n",
       "        vertical-align: top;\n",
       "    }\n",
       "\n",
       "    .dataframe thead th {\n",
       "        text-align: right;\n",
       "    }\n",
       "</style>\n",
       "<table border=\"1\" class=\"dataframe\">\n",
       "  <thead>\n",
       "    <tr style=\"text-align: right;\">\n",
       "      <th></th>\n",
       "      <th>weights</th>\n",
       "      <th>income</th>\n",
       "      <th>market_ids</th>\n",
       "      <th>nodes</th>\n",
       "    </tr>\n",
       "  </thead>\n",
       "  <tbody>\n",
       "    <tr>\n",
       "      <th>0</th>\n",
       "      <td>0.01</td>\n",
       "      <td>23.186677</td>\n",
       "      <td>1</td>\n",
       "      <td>0.077028</td>\n",
       "    </tr>\n",
       "    <tr>\n",
       "      <th>1</th>\n",
       "      <td>0.01</td>\n",
       "      <td>3.386280</td>\n",
       "      <td>1</td>\n",
       "      <td>-1.870613</td>\n",
       "    </tr>\n",
       "    <tr>\n",
       "      <th>2</th>\n",
       "      <td>0.01</td>\n",
       "      <td>46.181767</td>\n",
       "      <td>1</td>\n",
       "      <td>0.774557</td>\n",
       "    </tr>\n",
       "    <tr>\n",
       "      <th>3</th>\n",
       "      <td>0.01</td>\n",
       "      <td>12.107454</td>\n",
       "      <td>1</td>\n",
       "      <td>-0.580765</td>\n",
       "    </tr>\n",
       "    <tr>\n",
       "      <th>4</th>\n",
       "      <td>0.01</td>\n",
       "      <td>31.923700</td>\n",
       "      <td>1</td>\n",
       "      <td>0.400754</td>\n",
       "    </tr>\n",
       "    <tr>\n",
       "      <th>...</th>\n",
       "      <td>...</td>\n",
       "      <td>...</td>\n",
       "      <td>...</td>\n",
       "      <td>...</td>\n",
       "    </tr>\n",
       "    <tr>\n",
       "      <th>95</th>\n",
       "      <td>0.01</td>\n",
       "      <td>18.801607</td>\n",
       "      <td>1</td>\n",
       "      <td>-0.135200</td>\n",
       "    </tr>\n",
       "    <tr>\n",
       "      <th>96</th>\n",
       "      <td>0.01</td>\n",
       "      <td>21.957308</td>\n",
       "      <td>1</td>\n",
       "      <td>0.021876</td>\n",
       "    </tr>\n",
       "    <tr>\n",
       "      <th>97</th>\n",
       "      <td>0.01</td>\n",
       "      <td>2.053442</td>\n",
       "      <td>1</td>\n",
       "      <td>-2.377015</td>\n",
       "    </tr>\n",
       "    <tr>\n",
       "      <th>98</th>\n",
       "      <td>0.01</td>\n",
       "      <td>42.996736</td>\n",
       "      <td>1</td>\n",
       "      <td>0.702213</td>\n",
       "    </tr>\n",
       "    <tr>\n",
       "      <th>99</th>\n",
       "      <td>0.01</td>\n",
       "      <td>11.337584</td>\n",
       "      <td>1</td>\n",
       "      <td>-0.647276</td>\n",
       "    </tr>\n",
       "  </tbody>\n",
       "</table>\n",
       "<p>100 rows × 4 columns</p>\n",
       "</div>"
      ],
      "text/plain": [
       "    weights     income  market_ids     nodes\n",
       "0      0.01  23.186677           1  0.077028\n",
       "1      0.01   3.386280           1 -1.870613\n",
       "2      0.01  46.181767           1  0.774557\n",
       "3      0.01  12.107454           1 -0.580765\n",
       "4      0.01  31.923700           1  0.400754\n",
       "..      ...        ...         ...       ...\n",
       "95     0.01  18.801607           1 -0.135200\n",
       "96     0.01  21.957308           1  0.021876\n",
       "97     0.01   2.053442           1 -2.377015\n",
       "98     0.01  42.996736           1  0.702213\n",
       "99     0.01  11.337584           1 -0.647276\n",
       "\n",
       "[100 rows x 4 columns]"
      ]
     },
     "execution_count": 57,
     "metadata": {},
     "output_type": "execute_result"
    }
   ],
   "source": [
    "# Add agent data from lognormal draw (35000, 45000)\n",
    "integration = pyblp.Integration('halton', size=100, specification_options={'seed': 0})\n",
    "integration\n",
    "agent_data_array= pyblp.build_integration(integration, 1)\n",
    "agent_data_array.nodes\n",
    "agent_data= pd.DataFrame.from_records(agent_data_array.weights, index=range(100), columns=['weights'])\n",
    "m= 35000\n",
    "v= 45000\n",
    "\n",
    "agent_data['income']= np.exp(np.sqrt(np.log(v**2/m**2+1))*agent_data_array.nodes\n",
    "                    + np.log(m**2/np.sqrt(v**2+ m**2)) )/10**3\n",
    "agent_data['market_ids']=1\n",
    "agent_data['nodes']= agent_data_array.nodes     \n",
    "agent_data"
   ]
  },
  {
   "cell_type": "code",
   "execution_count": 16,
   "metadata": {},
   "outputs": [
    {
     "data": {
      "text/plain": [
       "(1 + prices + weight + power + ac, prices + power, None)"
      ]
     },
     "execution_count": 16,
     "metadata": {},
     "output_type": "execute_result"
    }
   ],
   "source": [
    "product_formulations = (\n",
    "   pyblp.Formulation('1 + prices + weight + power + ac'),\n",
    "   pyblp.Formulation('0 + prices + power'),\n",
    "   None\n",
    ")\n",
    "product_formulations"
   ]
  },
  {
   "cell_type": "code",
   "execution_count": 67,
   "metadata": {},
   "outputs": [
    {
     "data": {
      "text/plain": [
       "I(1 / income) + income"
      ]
     },
     "execution_count": 67,
     "metadata": {},
     "output_type": "execute_result"
    }
   ],
   "source": [
    "agent_formulation = pyblp.Formulation('0 + I(1/income)+ income')\n",
    "agent_formulation"
   ]
  },
  {
   "cell_type": "code",
   "execution_count": 68,
   "metadata": {},
   "outputs": [],
   "source": [
    "problem = pyblp.Problem(product_formulations, dataset, agent_formulation, agent_data, costs_type='linear')\n",
    "problem_gh = pyblp.Problem(product_formulations, dataset_gh, agent_formulation, agent_data, costs_type='linear')"
   ]
  },
  {
   "cell_type": "code",
   "execution_count": 75,
   "metadata": {},
   "outputs": [
    {
     "name": "stdout",
     "output_type": "stream",
     "text": [
      "Problem Results Summary:\n",
      "=================================================================================\n",
      "GMM   Objective  Gradient            Clipped  Weighting Matrix  Covariance Matrix\n",
      "Step    Value      Norm    Hessian   Shares   Condition Number  Condition Number \n",
      "----  ---------  --------  --------  -------  ----------------  -----------------\n",
      " 2    +1.6E+00   +5.6E-11  +8.3E-04     0         +8.3E+20          +1.9E+08     \n",
      "=================================================================================\n",
      "\n",
      "Cumulative Statistics:\n",
      "===========================================================================\n",
      "Computation  Optimizer  Optimization   Objective   Fixed Point  Contraction\n",
      "   Time      Converged   Iterations   Evaluations  Iterations   Evaluations\n",
      "-----------  ---------  ------------  -----------  -----------  -----------\n",
      " 00:00:01       No           12           58           505         1604    \n",
      "===========================================================================\n",
      "\n",
      "Nonlinear Coefficient Estimates (Robust SEs in Parentheses):\n",
      "===========================================================\n",
      "Sigma:   prices    power    |   Pi:    1*1/income   income \n",
      "------  --------  --------  |  ------  ----------  --------\n",
      "prices  +0.0E+00            |  prices   -1.4E+03   +0.0E+00\n",
      "                            |          (+5.1E+02)          \n",
      "                            |                              \n",
      "power   +0.0E+00  +0.0E+00  |  power    +0.0E+00   +0.0E+00\n",
      "                            |                              \n",
      "===========================================================\n",
      "\n",
      "Beta Estimates (Robust SEs in Parentheses):\n",
      "==========================================================\n",
      "    1         prices      weight      power         ac    \n",
      "----------  ----------  ----------  ----------  ----------\n",
      " -6.1E-01    +2.1E+00    +3.3E+00    +2.3E+00    +3.0E+00 \n",
      "(+2.9E+00)  (+1.2E+00)  (+1.0E+00)  (+1.5E+00)  (+1.2E+00)\n",
      "==========================================================\n"
     ]
    }
   ],
   "source": [
    "#optimization = pyblp.Optimization('l-bfgs-b', {'gtol': 1e-3})\n",
    "\n",
    "initial_sigma = np.diag([0,0])\n",
    "initial_pi = np.diag([-10, 0])\n",
    "initial_beta = logit_demandonly.to_dict(['beta'])['beta']\n",
    "blp_results = problem.solve(\n",
    "    initial_sigma,\n",
    "    initial_pi\n",
    ")\n",
    "print(blp_results)"
   ]
  },
  {
   "cell_type": "code",
   "execution_count": 71,
   "metadata": {},
   "outputs": [
    {
     "name": "stdout",
     "output_type": "stream",
     "text": [
      "Problem Results Summary:\n",
      "=================================================================================\n",
      "GMM   Objective  Gradient            Clipped  Weighting Matrix  Covariance Matrix\n",
      "Step    Value      Norm    Hessian   Shares   Condition Number  Condition Number \n",
      "----  ---------  --------  --------  -------  ----------------  -----------------\n",
      " 1    +4.5E+01   +1.1E-06  +4.2E-01     0         +1.0E+00          +4.4E+07     \n",
      "=================================================================================\n",
      "\n",
      "Cumulative Statistics:\n",
      "===========================================================================\n",
      "Computation  Optimizer  Optimization   Objective   Fixed Point  Contraction\n",
      "   Time      Converged   Iterations   Evaluations  Iterations   Evaluations\n",
      "-----------  ---------  ------------  -----------  -----------  -----------\n",
      " 00:00:01       Yes          11           59           384         1202    \n",
      "===========================================================================\n",
      "\n",
      "Nonlinear Coefficient Estimates (Robust SEs in Parentheses):\n",
      "===========================================================\n",
      "Sigma:   prices    power    |   Pi:    1*1/income   income \n",
      "------  --------  --------  |  ------  ----------  --------\n",
      "prices  +0.0E+00            |  prices   -2.0E+02   +0.0E+00\n",
      "                            |          (+2.1E+02)          \n",
      "                            |                              \n",
      "power   +0.0E+00  +0.0E+00  |  power    +0.0E+00   +0.0E+00\n",
      "                            |                              \n",
      "===========================================================\n",
      "\n",
      "Beta Estimates (Robust SEs in Parentheses):\n",
      "==========================================================\n",
      "    1         prices      weight      power         ac    \n",
      "----------  ----------  ----------  ----------  ----------\n",
      " -7.1E+00    -1.5E+00    +7.8E-01    +3.6E+00    +1.2E+00 \n",
      "(+3.7E+00)  (+7.8E-01)  (+8.0E-01)  (+1.7E+00)  (+1.6E+00)\n",
      "==========================================================\n"
     ]
    }
   ],
   "source": [
    "# Or we can try GH instruments:\n",
    "initial_sigma = np.diag([0,0])\n",
    "initial_pi = np.diag([-1, 0])\n",
    "initial_beta = logit_demandonly.to_dict(['beta'])['beta']\n",
    "blp_results_gh = problem_gh.solve(\n",
    "    initial_sigma,\n",
    "    initial_pi,\n",
    "    W= np.eye(12),\n",
    "    method='1s'\n",
    ")\n",
    "print(blp_results_gh)"
   ]
  },
  {
   "cell_type": "code",
   "execution_count": 77,
   "metadata": {},
   "outputs": [],
   "source": [
    "# Multi-start\n",
    "np.random.seed= 211\n",
    "initial_guess= np.append(np.random.rand(10), -np.random.rand(10))*35\n",
    "new_dict = {}\n",
    "initial_sigma = np.diag([0,0])\n",
    "i=0\n",
    "for pi in initial_guess:\n",
    "    initial_pi= np.diag([pi, 0])\n",
    "    blp_multistart_results = problem.solve(\n",
    "        initial_sigma,\n",
    "        initial_pi,\n",
    "        W= blp_results.W,\n",
    "        method='1s', # use the same weighting matrix to compare\n",
    "    )\n",
    "    i= i+1\n",
    "    new_dict[i]= blp_multistart_results\n"
   ]
  },
  {
   "cell_type": "code",
   "execution_count": 78,
   "metadata": {},
   "outputs": [],
   "source": [
    "# Multi-start\n",
    "np.random.seed= 211\n",
    "initial_guess= np.append(np.random.rand(10), -np.random.rand(10))*35\n",
    "new_dict2 = {}\n",
    "initial_sigma = np.diag([0,0])\n",
    "i=0\n",
    "for pi in initial_guess:\n",
    "    initial_pi= np.diag([pi, 0])\n",
    "    blp_multistart_results_gh = problem_gh.solve(\n",
    "        initial_sigma,\n",
    "        initial_pi,\n",
    "        W= blp_results_gh.W,\n",
    "        method='1s', # use the same weighting matrix to compare\n",
    "    )\n",
    "    i= i+1\n",
    "    new_dict2[i]= blp_multistart_results_gh"
   ]
  },
  {
   "cell_type": "code",
   "execution_count": 79,
   "metadata": {},
   "outputs": [
    {
     "data": {
      "text/plain": [
       "array([ 18.85345821,  32.33581542,  25.29777749,  15.6841105 ,\n",
       "        15.75911512,   2.29066103,  14.63588885,  17.10432572,\n",
       "         6.10890636,   1.85799446, -33.57342549, -13.5223259 ,\n",
       "       -32.86434572, -17.63015055, -11.25225158, -13.20026157,\n",
       "       -33.87220213,  -3.34569959, -14.35801137,  -1.59758445])"
      ]
     },
     "execution_count": 79,
     "metadata": {},
     "output_type": "execute_result"
    }
   ],
   "source": [
    "initial_guess"
   ]
  },
  {
   "cell_type": "code",
   "execution_count": 80,
   "metadata": {},
   "outputs": [
    {
     "data": {
      "text/html": [
       "<div>\n",
       "<style scoped>\n",
       "    .dataframe tbody tr th:only-of-type {\n",
       "        vertical-align: middle;\n",
       "    }\n",
       "\n",
       "    .dataframe tbody tr th {\n",
       "        vertical-align: top;\n",
       "    }\n",
       "\n",
       "    .dataframe thead th {\n",
       "        text-align: right;\n",
       "    }\n",
       "</style>\n",
       "<table border=\"1\" class=\"dataframe\">\n",
       "  <thead>\n",
       "    <tr style=\"text-align: right;\">\n",
       "      <th></th>\n",
       "      <th>converged</th>\n",
       "      <th>objective</th>\n",
       "      <th>pi</th>\n",
       "    </tr>\n",
       "  </thead>\n",
       "  <tbody>\n",
       "    <tr>\n",
       "      <th>0</th>\n",
       "      <td>True</td>\n",
       "      <td>1.079121</td>\n",
       "      <td>11.466711</td>\n",
       "    </tr>\n",
       "    <tr>\n",
       "      <th>1</th>\n",
       "      <td>True</td>\n",
       "      <td>1.079121</td>\n",
       "      <td>11.466711</td>\n",
       "    </tr>\n",
       "    <tr>\n",
       "      <th>2</th>\n",
       "      <td>True</td>\n",
       "      <td>1.079121</td>\n",
       "      <td>11.466711</td>\n",
       "    </tr>\n",
       "    <tr>\n",
       "      <th>3</th>\n",
       "      <td>True</td>\n",
       "      <td>1.079121</td>\n",
       "      <td>11.466711</td>\n",
       "    </tr>\n",
       "    <tr>\n",
       "      <th>4</th>\n",
       "      <td>True</td>\n",
       "      <td>1.079121</td>\n",
       "      <td>11.466711</td>\n",
       "    </tr>\n",
       "    <tr>\n",
       "      <th>5</th>\n",
       "      <td>True</td>\n",
       "      <td>1.079121</td>\n",
       "      <td>11.466711</td>\n",
       "    </tr>\n",
       "    <tr>\n",
       "      <th>6</th>\n",
       "      <td>True</td>\n",
       "      <td>1.079121</td>\n",
       "      <td>11.466711</td>\n",
       "    </tr>\n",
       "    <tr>\n",
       "      <th>7</th>\n",
       "      <td>True</td>\n",
       "      <td>1.079121</td>\n",
       "      <td>11.466712</td>\n",
       "    </tr>\n",
       "    <tr>\n",
       "      <th>8</th>\n",
       "      <td>True</td>\n",
       "      <td>1.079121</td>\n",
       "      <td>11.466711</td>\n",
       "    </tr>\n",
       "    <tr>\n",
       "      <th>9</th>\n",
       "      <td>True</td>\n",
       "      <td>1.079121</td>\n",
       "      <td>11.466711</td>\n",
       "    </tr>\n",
       "    <tr>\n",
       "      <th>10</th>\n",
       "      <td>True</td>\n",
       "      <td>1.595756</td>\n",
       "      <td>-1365.728992</td>\n",
       "    </tr>\n",
       "    <tr>\n",
       "      <th>11</th>\n",
       "      <td>True</td>\n",
       "      <td>1.595756</td>\n",
       "      <td>-1365.728998</td>\n",
       "    </tr>\n",
       "    <tr>\n",
       "      <th>12</th>\n",
       "      <td>True</td>\n",
       "      <td>1.595756</td>\n",
       "      <td>-1365.728994</td>\n",
       "    </tr>\n",
       "    <tr>\n",
       "      <th>13</th>\n",
       "      <td>True</td>\n",
       "      <td>1.595756</td>\n",
       "      <td>-1365.728996</td>\n",
       "    </tr>\n",
       "    <tr>\n",
       "      <th>14</th>\n",
       "      <td>True</td>\n",
       "      <td>1.595756</td>\n",
       "      <td>-1365.728997</td>\n",
       "    </tr>\n",
       "    <tr>\n",
       "      <th>15</th>\n",
       "      <td>True</td>\n",
       "      <td>1.595756</td>\n",
       "      <td>-1365.728996</td>\n",
       "    </tr>\n",
       "    <tr>\n",
       "      <th>16</th>\n",
       "      <td>True</td>\n",
       "      <td>1.595756</td>\n",
       "      <td>-1365.728995</td>\n",
       "    </tr>\n",
       "    <tr>\n",
       "      <th>17</th>\n",
       "      <td>True</td>\n",
       "      <td>1.595756</td>\n",
       "      <td>-1365.728960</td>\n",
       "    </tr>\n",
       "    <tr>\n",
       "      <th>18</th>\n",
       "      <td>True</td>\n",
       "      <td>1.595756</td>\n",
       "      <td>-1365.728992</td>\n",
       "    </tr>\n",
       "  </tbody>\n",
       "</table>\n",
       "</div>"
      ],
      "text/plain": [
       "    converged  objective           pi\n",
       "0        True   1.079121    11.466711\n",
       "1        True   1.079121    11.466711\n",
       "2        True   1.079121    11.466711\n",
       "3        True   1.079121    11.466711\n",
       "4        True   1.079121    11.466711\n",
       "5        True   1.079121    11.466711\n",
       "6        True   1.079121    11.466711\n",
       "7        True   1.079121    11.466712\n",
       "8        True   1.079121    11.466711\n",
       "9        True   1.079121    11.466711\n",
       "10       True   1.595756 -1365.728992\n",
       "11       True   1.595756 -1365.728998\n",
       "12       True   1.595756 -1365.728994\n",
       "13       True   1.595756 -1365.728996\n",
       "14       True   1.595756 -1365.728997\n",
       "15       True   1.595756 -1365.728996\n",
       "16       True   1.595756 -1365.728995\n",
       "17       True   1.595756 -1365.728960\n",
       "18       True   1.595756 -1365.728992"
      ]
     },
     "execution_count": 80,
     "metadata": {},
     "output_type": "execute_result"
    }
   ],
   "source": [
    "d={}\n",
    "d['converged']= [new_dict[i].to_dict()['converged'] for i in range(1,i)]\n",
    "d['objective']= [new_dict[i].to_dict()['objective'][0][0] for i in range(1,i)]\n",
    "d['pi']= [new_dict[i].to_dict()['pi'][0,0] for i in range(1,i)]\n",
    "pd.DataFrame.from_dict(d)"
   ]
  },
  {
   "cell_type": "code",
   "execution_count": 81,
   "metadata": {},
   "outputs": [
    {
     "data": {
      "text/html": [
       "<div>\n",
       "<style scoped>\n",
       "    .dataframe tbody tr th:only-of-type {\n",
       "        vertical-align: middle;\n",
       "    }\n",
       "\n",
       "    .dataframe tbody tr th {\n",
       "        vertical-align: top;\n",
       "    }\n",
       "\n",
       "    .dataframe thead th {\n",
       "        text-align: right;\n",
       "    }\n",
       "</style>\n",
       "<table border=\"1\" class=\"dataframe\">\n",
       "  <thead>\n",
       "    <tr style=\"text-align: right;\">\n",
       "      <th></th>\n",
       "      <th>converged</th>\n",
       "      <th>objective</th>\n",
       "      <th>pi</th>\n",
       "    </tr>\n",
       "  </thead>\n",
       "  <tbody>\n",
       "    <tr>\n",
       "      <th>0</th>\n",
       "      <td>False</td>\n",
       "      <td>51.761774</td>\n",
       "      <td>2.819862</td>\n",
       "    </tr>\n",
       "    <tr>\n",
       "      <th>1</th>\n",
       "      <td>False</td>\n",
       "      <td>51.761774</td>\n",
       "      <td>2.819866</td>\n",
       "    </tr>\n",
       "    <tr>\n",
       "      <th>2</th>\n",
       "      <td>False</td>\n",
       "      <td>45.269487</td>\n",
       "      <td>-196.442508</td>\n",
       "    </tr>\n",
       "    <tr>\n",
       "      <th>3</th>\n",
       "      <td>True</td>\n",
       "      <td>51.761774</td>\n",
       "      <td>2.819864</td>\n",
       "    </tr>\n",
       "    <tr>\n",
       "      <th>4</th>\n",
       "      <td>False</td>\n",
       "      <td>51.761774</td>\n",
       "      <td>2.819864</td>\n",
       "    </tr>\n",
       "    <tr>\n",
       "      <th>5</th>\n",
       "      <td>False</td>\n",
       "      <td>51.761774</td>\n",
       "      <td>2.819862</td>\n",
       "    </tr>\n",
       "    <tr>\n",
       "      <th>6</th>\n",
       "      <td>True</td>\n",
       "      <td>51.761774</td>\n",
       "      <td>2.819862</td>\n",
       "    </tr>\n",
       "    <tr>\n",
       "      <th>7</th>\n",
       "      <td>False</td>\n",
       "      <td>51.761774</td>\n",
       "      <td>2.819863</td>\n",
       "    </tr>\n",
       "    <tr>\n",
       "      <th>8</th>\n",
       "      <td>False</td>\n",
       "      <td>51.761774</td>\n",
       "      <td>2.819862</td>\n",
       "    </tr>\n",
       "    <tr>\n",
       "      <th>9</th>\n",
       "      <td>True</td>\n",
       "      <td>51.761774</td>\n",
       "      <td>2.819862</td>\n",
       "    </tr>\n",
       "    <tr>\n",
       "      <th>10</th>\n",
       "      <td>True</td>\n",
       "      <td>45.269487</td>\n",
       "      <td>-196.445408</td>\n",
       "    </tr>\n",
       "    <tr>\n",
       "      <th>11</th>\n",
       "      <td>False</td>\n",
       "      <td>45.269487</td>\n",
       "      <td>-196.444122</td>\n",
       "    </tr>\n",
       "    <tr>\n",
       "      <th>12</th>\n",
       "      <td>False</td>\n",
       "      <td>45.269487</td>\n",
       "      <td>-196.445396</td>\n",
       "    </tr>\n",
       "    <tr>\n",
       "      <th>13</th>\n",
       "      <td>False</td>\n",
       "      <td>45.269487</td>\n",
       "      <td>-196.445305</td>\n",
       "    </tr>\n",
       "    <tr>\n",
       "      <th>14</th>\n",
       "      <td>False</td>\n",
       "      <td>45.269487</td>\n",
       "      <td>-196.442652</td>\n",
       "    </tr>\n",
       "    <tr>\n",
       "      <th>15</th>\n",
       "      <td>False</td>\n",
       "      <td>45.269487</td>\n",
       "      <td>-196.443868</td>\n",
       "    </tr>\n",
       "    <tr>\n",
       "      <th>16</th>\n",
       "      <td>False</td>\n",
       "      <td>45.269487</td>\n",
       "      <td>-196.445409</td>\n",
       "    </tr>\n",
       "    <tr>\n",
       "      <th>17</th>\n",
       "      <td>True</td>\n",
       "      <td>45.269487</td>\n",
       "      <td>-196.445405</td>\n",
       "    </tr>\n",
       "    <tr>\n",
       "      <th>18</th>\n",
       "      <td>False</td>\n",
       "      <td>45.269487</td>\n",
       "      <td>-196.444623</td>\n",
       "    </tr>\n",
       "  </tbody>\n",
       "</table>\n",
       "</div>"
      ],
      "text/plain": [
       "    converged  objective          pi\n",
       "0       False  51.761774    2.819862\n",
       "1       False  51.761774    2.819866\n",
       "2       False  45.269487 -196.442508\n",
       "3        True  51.761774    2.819864\n",
       "4       False  51.761774    2.819864\n",
       "5       False  51.761774    2.819862\n",
       "6        True  51.761774    2.819862\n",
       "7       False  51.761774    2.819863\n",
       "8       False  51.761774    2.819862\n",
       "9        True  51.761774    2.819862\n",
       "10       True  45.269487 -196.445408\n",
       "11      False  45.269487 -196.444122\n",
       "12      False  45.269487 -196.445396\n",
       "13      False  45.269487 -196.445305\n",
       "14      False  45.269487 -196.442652\n",
       "15      False  45.269487 -196.443868\n",
       "16      False  45.269487 -196.445409\n",
       "17       True  45.269487 -196.445405\n",
       "18      False  45.269487 -196.444623"
      ]
     },
     "execution_count": 81,
     "metadata": {},
     "output_type": "execute_result"
    }
   ],
   "source": [
    "d2={}\n",
    "d2['converged']= [new_dict2[i].to_dict()['converged'] for i in range(1,i)]\n",
    "d2['objective']= [new_dict2[i].to_dict()['objective'][0][0] for i in range(1,i)]\n",
    "d2['pi']= [new_dict2[i].to_dict()['pi'][0,0] for i in range(1,i)]\n",
    "pd.DataFrame.from_dict(d2)"
   ]
  },
  {
   "cell_type": "code",
   "execution_count": 72,
   "metadata": {},
   "outputs": [
    {
     "data": {
      "image/png": "[encoded data removed]",
      "text/plain": [
       "<Figure size 288x288 with 2 Axes>"
      ]
     },
     "metadata": {
      "needs_background": "light"
     },
     "output_type": "display_data"
    },
    {
     "data": {
      "image/png": "[encoded data removed]",
      "text/plain": [
       "<Figure size 288x288 with 2 Axes>"
      ]
     },
     "metadata": {
      "needs_background": "light"
     },
     "output_type": "display_data"
    }
   ],
   "source": [
    "elasticities_blp= blp_results_gh.compute_elasticities()\n",
    "diversions_blp = blp_results_gh.compute_diversion_ratios()\n",
    "plt.colorbar(plt.matshow(elasticities_blp));\n",
    "plt.colorbar(plt.matshow(diversions_blp));"
   ]
  },
  {
   "cell_type": "code",
   "execution_count": 73,
   "metadata": {},
   "outputs": [
    {
     "data": {
      "image/png": "[encoded data removed]",
      "text/plain": [
       "<Figure size 432x288 with 1 Axes>"
      ]
     },
     "metadata": {
      "needs_background": "light"
     },
     "output_type": "display_data"
    }
   ],
   "source": [
    "costs_blp = blp_results.compute_costs()\n",
    "plt.hist(costs_blp, bins=50);\n",
    "plt.legend([\"Marginal Costs\"]);"
   ]
  },
  {
   "cell_type": "code",
   "execution_count": 74,
   "metadata": {},
   "outputs": [
    {
     "data": {
      "image/png": "[encoded data removed]",
      "text/plain": [
       "<Figure size 432x288 with 1 Axes>"
      ]
     },
     "metadata": {
      "needs_background": "light"
     },
     "output_type": "display_data"
    }
   ],
   "source": [
    "markups_blp = blp_results.compute_markups(costs=costs_blp)\n",
    "plt.hist(markups_blp, bins=50);\n",
    "plt.legend([\"Markups\"]);"
   ]
  },
  {
   "cell_type": "markdown",
   "metadata": {},
   "source": [
    "### Question 8: Incorporate micro moments\n",
    "\n",
    "- The micro moment will come into the equation in the following way: ($x_{j}=hp_{j}/weight_{j}$)\n",
    "$\n",
    "Corr\\left( y_{i},x_{j}\\right) =\\frac{E\\left[ \\left( y_{i}-E(y)\\right) \\left(\n",
    "x_{j}-E(x)\\right) \\right] }{\\sigma _{y}\\sigma _{x}}=0.7\n",
    "$\n",
    "\n",
    "- The denominator is directly from the data, the nemurator, denote $C_{i}=j~$\n",
    "as $i~$buys car $j$ \n",
    "$\n",
    "\\begin{split}\n",
    "E\\left[ (y_{i}-\\mu _{y})\\left( x_{j}-\\mu _{x}\\right) |\\beta ,\\alpha \\right] \n",
    "&=&\\sum_{j}s_{j}\\left( x_{j}-\\mu _{x}\\right) \\times E\\left[ (y_{i}-\\mu\n",
    "_{y})|C_{i}=j;\\beta ,\\alpha \\right]  \\\\\n",
    "&=&\\sum_{j}s_{j}\\left( x_{j}-\\mu _{x}\\right) \\times \\int_{y_{i}}(y_{i}-\\mu\n",
    "_{y})\\Pr \\left( y_{i}|C_{i}=j;\\beta ,\\alpha \\right)  \\\\\n",
    "\\text{(from Beyes' rule)} &=&\\sum_{j}s_{j}\\left( x_{j}-\\mu _{x}\\right)\n",
    "\\times \\frac{\\int_{y_{i}}(y_{i}-\\mu _{y})\\Pr \\left( C_{i}=j|y_{i};\\beta\n",
    ",\\alpha \\right) dF(y_{i})}{\\Pr \\left( C_{i}=j,\\beta ,\\alpha \\right) } \\\\\n",
    "\\text{(by simulation)} &=&\\sum_{j}s_{j}\\left( x_{j}-\\mu _{x}\\right) \\times \n",
    "\\frac{\\left( N\\right) ^{-1}\\sum_{r}(y_{r}-\\mu _{y})\\Pr \\left(\n",
    "C_{i}=j|y_{r};\\beta ,\\alpha \\right) }{s_{j}^{N}} \\\\\n",
    "&=&\\sum_{j}s_{j}\\left( x_{j}-\\mu _{x}\\right) \\times \\frac{\\left( N\\right)\n",
    "^{-1}}{s_{j}^{N}}\\sum_{r}(y_{r}-\\mu _{y})\\frac{\\exp (\\hat{\\delta}_{j}\\left(\n",
    "\\alpha \\right) -\\frac{p_{j}}{y_{r}})}{1+\\sum_{k}\\exp (\\hat{\\delta}_{k}\\left(\n",
    "\\alpha \\right) -\\frac{p_{k}}{y_{r}})}\n",
    "\\end{split}\n",
    "$\n",
    "\n",
    "- The moment would be:\n",
    "$\n",
    "\\begin{split}\n",
    "&&E[\\frac{1}{N}\\sum_{j}\\left( x_{j}-\\mu _{x}\\right) \\times\n",
    "\\sum_{r}(y_{r}-\\mu _{y})\\frac{\\exp (\\hat{\\delta}_{j}\\left( \\alpha \\right) -%\n",
    "\\frac{p_{j}}{y_{r}})}{1+\\sum_{k}\\exp (\\hat{\\delta}_{k}\\left( \\alpha \\right) -%\n",
    "\\frac{p_{k}}{y_{r}})}-0.7\\sigma _{y}\\sigma _{x}]=0 \\\\\n",
    "&&\\sigma _{y}=45000\\text{ (known), }\\sigma _{x}=\\sqrt{\\sum_{j}\\frac{n_{j}}{N}%\n",
    "\\left( x_{j}-\\mu _{x}\\right) ^{2}}=\\sqrt{\\sum_{j}s_{j}\\left( x_{j}-\\mu\n",
    "_{x}\\right) ^{2}}\n",
    "\\end{split}\n",
    "$"
   ]
  },
  {
   "cell_type": "code",
   "execution_count": 29,
   "metadata": {},
   "outputs": [
    {
     "data": {
      "text/plain": [
       "0.34169321984487205"
      ]
     },
     "execution_count": 29,
     "metadata": {},
     "output_type": "execute_result"
    }
   ],
   "source": [
    "# Data standard errors of power.\n",
    "np.sqrt(np.cov(dataset['power'], aweights=dataset['quantity']))"
   ]
  },
  {
   "cell_type": "code",
   "execution_count": 87,
   "metadata": {},
   "outputs": [],
   "source": [
    "moment_power_income= pyblp.DemographicInteractionMoment(1, 1, 0.7*45*\n",
    "                                                        np.sqrt(np.cov(dataset['power'], aweights=dataset['quantity'])), 1000)"
   ]
  },
  {
   "cell_type": "code",
   "execution_count": 89,
   "metadata": {},
   "outputs": [
    {
     "data": {
      "text/plain": [
       "Problem Results Summary:\n",
       "=================================================================================\n",
       "GMM   Objective  Gradient            Clipped  Weighting Matrix  Covariance Matrix\n",
       "Step    Value      Norm    Hessian   Shares   Condition Number  Condition Number \n",
       "----  ---------  --------  --------  -------  ----------------  -----------------\n",
       " 2    +3.2E+01   +6.8E-10  +1.3E+01     0         +1.0E+19          +1.6E+03     \n",
       "=================================================================================\n",
       "\n",
       "Cumulative Statistics:\n",
       "===========================================================================\n",
       "Computation  Optimizer  Optimization   Objective   Fixed Point  Contraction\n",
       "   Time      Converged   Iterations   Evaluations  Iterations   Evaluations\n",
       "-----------  ---------  ------------  -----------  -----------  -----------\n",
       " 00:01:03       Yes          13           52          32186        96630   \n",
       "===========================================================================\n",
       "\n",
       "Nonlinear Coefficient Estimates (Robust SEs in Parentheses):\n",
       "===========================================================\n",
       "Sigma:   prices    power    |   Pi:    1*1/income   income \n",
       "------  --------  --------  |  ------  ----------  --------\n",
       "prices  +0.0E+00            |  prices   +1.6E+01   +0.0E+00\n",
       "                            |          (+4.2E-01)          \n",
       "                            |                              \n",
       "power   +0.0E+00  +0.0E+00  |  power    +0.0E+00   +0.0E+00\n",
       "                            |                              \n",
       "===========================================================\n",
       "\n",
       "Beta Estimates (Robust SEs in Parentheses):\n",
       "==========================================================\n",
       "    1         prices      weight      power         ac    \n",
       "----------  ----------  ----------  ----------  ----------\n",
       " -9.3E+00    -1.7E+01    +4.2E+00    +6.8E+00    +3.0E+00 \n",
       "(+1.9E+00)  (+9.4E-01)  (+8.3E-01)  (+1.8E+00)  (+9.1E-01)\n",
       "==========================================================\n",
       "\n",
       "Micro Moment Values:\n",
       "===============================================================================\n",
       "Index                  Type                   Markets   N     Value     Moment \n",
       "-----  -------------------------------------  -------  ----  --------  --------\n",
       "  0    E[X2 Column 1 x Demographic Column 1]    All    1000  +1.1E+01  -2.4E-01\n",
       "==============================================================================="
      ]
     },
     "execution_count": 89,
     "metadata": {},
     "output_type": "execute_result"
    }
   ],
   "source": [
    "initial_sigma = np.diag([0,0])\n",
    "initial_pi = np.diag([-100, 0])\n",
    "initial_beta = logit_demandonly.to_dict(['beta'])['beta']\n",
    "blp_micro_results = problem_gh.solve(\n",
    "    initial_sigma,\n",
    "    initial_pi,\n",
    "    micro_moments= [moment_power_income],\n",
    "    initial_update= True\n",
    ")\n",
    "blp_micro_results"
   ]
  }
 ],
 "metadata": {
  "kernelspec": {
   "display_name": "Python 3",
   "language": "python",
   "name": "python3"
  },
  "language_info": {
   "codemirror_mode": {
    "name": "ipython",
    "version": 3
   },
   "file_extension": ".py",
   "mimetype": "text/x-python",
   "name": "python",
   "nbconvert_exporter": "python",
   "pygments_lexer": "ipython3",
   "version": "3.7.10"
  }
 },
 "nbformat": 4,
 "nbformat_minor": 4
}
